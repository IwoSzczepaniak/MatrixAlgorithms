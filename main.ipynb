{
 "cells": [
  {
   "cell_type": "markdown",
   "metadata": {},
   "source": [
    "# Zadanie 1"
   ]
  },
  {
   "cell_type": "markdown",
   "metadata": {},
   "source": [
    "## Część 1\n",
    "-> opracowanie rekurencyjnych algorytmów dla macierzy gęstych o złożoności $<n^3$"
   ]
  },
  {
   "cell_type": "markdown",
   "metadata": {},
   "source": [
    "##### Mnożenie macierzy gęstych"
   ]
  },
  {
   "cell_type": "code",
   "execution_count": null,
   "metadata": {},
   "outputs": [],
   "source": [
    "import numpy as np"
   ]
  },
  {
   "cell_type": "code",
   "execution_count": 37,
   "metadata": {},
   "outputs": [],
   "source": [
    "def cauchy_binet_recursive(A, B):\n",
    "\n",
    "    if A.shape[1] != B.shape[0]:  \n",
    "        raise ValueError(\"Matrix dimensions are not compatible for multiplication\")\n",
    "\n",
    "    n = A.shape[1]\n",
    "\n",
    "    if n == 1: \n",
    "        return A[0, 0] * B[0, 0], 1\n",
    "\n",
    "    \n",
    "    # Split matrices A and B into submatrices\n",
    "    m = n // 2\n",
    "    A11, A12 = A[:m, :m], A[:m, m:]\n",
    "    A21, A22 = A[m:, :m], A[m:, m:]\n",
    "    B11, B12 = B[:m, :m], B[:m, m:]\n",
    "    B21, B22 = B[m:, :m], B[m:, m:]\n",
    "\n",
    "    # Recursively compute subdeterminants\n",
    "    LU1, count1 = cauchy_binet_recursive(A11, B11)\n",
    "    LU2, count2 = cauchy_binet_recursive(A12, B21)\n",
    "    RU1, count3 = cauchy_binet_recursive(A11, B12)\n",
    "    RU2, count4 = cauchy_binet_recursive(A12, B22)\n",
    "    LD1, count5 = cauchy_binet_recursive(A21, B11)\n",
    "    LD2, count6 = cauchy_binet_recursive(A22, B21)\n",
    "    RD1, count7 = cauchy_binet_recursive(A21, B12)\n",
    "    RD2, count8 = cauchy_binet_recursive(A22, B22)\n",
    "    \n",
    "    result = np.zeros((n, n))\n",
    "    result[:m, :m] = LU1 + LU2\n",
    "    result[:m, m:] = RU1 + RU2\n",
    "    result[m:, :m] = LD1 + LD2\n",
    "    result[m:, m:] = RD1 + RD2\n",
    "    \n",
    "    count = count1 + count2 + count3 + count4 + count5 + count6 + count7 + count8 + 4\n",
    "\n",
    "    return result, count\n"
   ]
  },
  {
   "cell_type": "code",
   "execution_count": 31,
   "metadata": {},
   "outputs": [],
   "source": [
    "def strassen_matrix_multiply(A, B):\n",
    "    if A.shape[1] != B.shape[0]:\n",
    "        raise ValueError(\"Matrix dimensions are not compatible for multiplication\")\n",
    "\n",
    "    if A.shape[0] == 1 and A.shape[1] == 1:\n",
    "        return A * B, 1\n",
    "\n",
    "    # Split the matrices into four equal-sized parts\n",
    "    m = A.shape[0] // 2\n",
    "\n",
    "    a11, a12 = A[:m, :m], A[:m, m:]\n",
    "    a21, a22 = A[m:, :m], A[m:, m:]\n",
    "\n",
    "    b11, b12 = B[:m, :m], B[:m, m:]\n",
    "    b21, b22 = B[m:, :m], B[m:, m:]\n",
    "\n",
    "    # Calculate the 7 products P1 to P7 using Strassen's method\n",
    "    p1, count1 = strassen_matrix_multiply(a11, (b12 - b22))\n",
    "    p2, count2 = strassen_matrix_multiply((a11 + a12), b22)\n",
    "    p3, count3 = strassen_matrix_multiply((a21 + a22), b11)\n",
    "    p4, count4 = strassen_matrix_multiply(a22, (b21 - b11))\n",
    "    p5, count5 = strassen_matrix_multiply((a11 + a22), (b11 + b22))\n",
    "    p6, count6 = strassen_matrix_multiply((a12 - a22), (b21 + b22))\n",
    "    p7, count7 = strassen_matrix_multiply((a11 - a21), (b11 + b12))\n",
    "\n",
    "    # Calculate the four parts of the result matrix\n",
    "    c11 = p5 + p4 - p2 + p6\n",
    "    c12 = p1 + p2\n",
    "    c21 = p3 + p4\n",
    "    c22 = p5 + p1 - p3 - p7\n",
    "\n",
    "    # Combine the results\n",
    "    top = np.hstack((c11, c12))\n",
    "    bottom = np.hstack((c21, c22))\n",
    "    result = np.vstack((top, bottom))\n",
    "    \n",
    "    count = count1 + count2 + count3 + count4 + count5 + count6 + count7 + 18\n",
    "    \n",
    "    return result, count"
   ]
  },
  {
   "cell_type": "markdown",
   "metadata": {},
   "source": [
    "##### Przykładowe testy"
   ]
  },
  {
   "cell_type": "code",
   "execution_count": 55,
   "metadata": {},
   "outputs": [
    {
     "name": "stdout",
     "output_type": "stream",
     "text": [
      "Matrix A:\n",
      "[[2 3]\n",
      " [4 5]]\n",
      "Matrix B:\n",
      "[[1 2]\n",
      " [8 7]]\n",
      "Binet:\n",
      "[[26. 25.]\n",
      " [44. 43.]]\n",
      "Strassen:\n",
      "[[26 25]\n",
      " [44 43]]\n"
     ]
    }
   ],
   "source": [
    "A = np.array([[2, 3], [4, 5]])\n",
    "B = np.array([[1, 2], [8, 7]])\n",
    "\n",
    "# A = np.array([[1,2], [3,4]])\n",
    "# B = np.array([[5,6], [7,8]])\n",
    "\n",
    "result1, _ = cauchy_binet_recursive(A, B)\n",
    "\n",
    "result2, _ = strassen_matrix_multiply(A, B)\n",
    "\n",
    "print(\"Matrix A:\")\n",
    "print(A)\n",
    "print(\"Matrix B:\")\n",
    "print(B)\n",
    "print(\"Binet:\")\n",
    "print(result1)\n",
    "print(\"Strassen:\")\n",
    "print(result2)"
   ]
  },
  {
   "cell_type": "markdown",
   "metadata": {},
   "source": [
    "##### Testy właściwe"
   ]
  },
  {
   "cell_type": "code",
   "execution_count": 47,
   "metadata": {},
   "outputs": [],
   "source": [
    "# create plot showing on y axis time consumed by cauchy_binet_recursive and on x axis k, where k is in range(2,16) and matrixes are size 2^k x 2^k\n",
    "\n",
    "import time\n",
    "from matplotlib import pyplot as plt\n",
    "x = []\n",
    "y_t = []\n",
    "y_op = []\n",
    "for k in range(2,9):\n",
    "    n = 2**k\n",
    "    A = np.random.rand(n,n)\n",
    "    B = np.random.rand(n,n)\n",
    "    start = time.time()\n",
    "    _, ops = cauchy_binet_recursive(A,B)\n",
    "    end = time.time()\n",
    "    x.append(k)\n",
    "    y_t.append(end-start)\n",
    "    y_op.append(ops)\n"
   ]
  },
  {
   "cell_type": "markdown",
   "metadata": {},
   "source": [
    "Czas potrzebny na wykonanie algorytmu"
   ]
  },
  {
   "cell_type": "code",
   "execution_count": 50,
   "metadata": {},
   "outputs": [
    {
     "name": "stdout",
     "output_type": "stream",
     "text": [
      "[0.0, 0.0009996891021728516, 0.006018877029418945, 0.041005611419677734, 0.3799769878387451, 3.0089809894561768, 23.996400833129883]\n"
     ]
    },
    {
     "data": {
      "image/png": "[encoded data removed]",
      "text/plain": [
       "<Figure size 640x480 with 1 Axes>"
      ]
     },
     "metadata": {},
     "output_type": "display_data"
    }
   ],
   "source": [
    "plt.bar(x, y_t)\n",
    "plt.xlabel('k')\n",
    "plt.ylabel('time in seconds');\n",
    "print(y_t)"
   ]
  },
  {
   "cell_type": "markdown",
   "metadata": {},
   "source": [
    "Ilość operacji"
   ]
  },
  {
   "cell_type": "code",
   "execution_count": 51,
   "metadata": {},
   "outputs": [
    {
     "name": "stdout",
     "output_type": "stream",
     "text": [
      "[100, 804, 6436, 51492, 411940, 3295524, 26364196]\n"
     ]
    },
    {
     "data": {
      "image/png": "[encoded data removed]",
      "text/plain": [
       "<Figure size 640x480 with 1 Axes>"
      ]
     },
     "metadata": {},
     "output_type": "display_data"
    }
   ],
   "source": [
    "plt.bar(x, y_op)\n",
    "plt.xlabel('k')\n",
    "plt.ylabel('amount of operations');\n",
    "print(y_op)"
   ]
  },
  {
   "cell_type": "code",
   "execution_count": 52,
   "metadata": {},
   "outputs": [],
   "source": [
    "x_s = []\n",
    "y_t_s = []\n",
    "y_op_s = []\n",
    "for k in range(2,9):\n",
    "    n = 2**k\n",
    "    A = np.random.rand(n,n)\n",
    "    B = np.random.rand(n,n)\n",
    "    start = time.time()\n",
    "    _, ops = strassen_matrix_multiply(A,B)\n",
    "    end = time.time()\n",
    "    x_s.append(k)\n",
    "    y_t_s.append(end-start)\n",
    "    y_op_s.append(ops)"
   ]
  },
  {
   "cell_type": "markdown",
   "metadata": {},
   "source": [
    "Czas potrzebny na wykonanie algorytmu"
   ]
  },
  {
   "cell_type": "code",
   "execution_count": 53,
   "metadata": {},
   "outputs": [
    {
     "name": "stdout",
     "output_type": "stream",
     "text": [
      "[0.0009989738464355469, 0.00400233268737793, 0.01399683952331543, 0.08199954032897949, 0.562999963760376, 3.9270169734954834, 27.185481786727905]\n"
     ]
    },
    {
     "data": {
      "image/png": "[encoded data removed]",
      "text/plain": [
       "<Figure size 640x480 with 1 Axes>"
      ]
     },
     "metadata": {},
     "output_type": "display_data"
    }
   ],
   "source": [
    "plt.bar(x_s, y_t_s)\n",
    "plt.xlabel('k')\n",
    "plt.ylabel('time in seconds');\n",
    "print(y_t_s)"
   ]
  },
  {
   "cell_type": "markdown",
   "metadata": {},
   "source": [
    "Ilość operacji"
   ]
  },
  {
   "cell_type": "code",
   "execution_count": 54,
   "metadata": {},
   "outputs": [
    {
     "name": "stdout",
     "output_type": "stream",
     "text": [
      "[193, 1369, 9601, 67225, 470593, 3294169, 23059201]\n"
     ]
    },
    {
     "data": {
      "image/png": "[encoded data removed]",
      "text/plain": [
       "<Figure size 640x480 with 1 Axes>"
      ]
     },
     "metadata": {},
     "output_type": "display_data"
    }
   ],
   "source": [
    "plt.bar(x_s, y_op_s)\n",
    "plt.xlabel('k')\n",
    "plt.ylabel('amount of operations');\n",
    "print(y_op_s)"
   ]
  }
 ],
 "metadata": {
  "kernelspec": {
   "display_name": "Python 3 (ipykernel)",
   "language": "python",
   "name": "python3"
  },
  "language_info": {
   "codemirror_mode": {
    "name": "ipython",
    "version": 3
   },
   "file_extension": ".py",
   "mimetype": "text/x-python",
   "name": "python",
   "nbconvert_exporter": "python",
   "pygments_lexer": "ipython3",
   "version": "3.10.9"
  }
 },
 "nbformat": 4,
 "nbformat_minor": 2
}
