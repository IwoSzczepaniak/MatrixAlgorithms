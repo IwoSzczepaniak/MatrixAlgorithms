{
 "cells": [
  {
   "cell_type": "code",
   "execution_count": 64,
   "metadata": {},
   "outputs": [],
   "source": [
    "import numpy as np"
   ]
  },
  {
   "cell_type": "code",
   "execution_count": 65,
   "metadata": {},
   "outputs": [],
   "source": [
    "X = np.array([[1, True, True, True, True],\n",
    "               [True, 2, 0, 0, 0],\n",
    "               [True, 0, 3, 0, 0],\n",
    "               [True, 0, 0, 4, 0],\n",
    "               [True, 0, 0, 0, 5]])"
   ]
  },
  {
   "cell_type": "code",
   "execution_count": 66,
   "metadata": {},
   "outputs": [
    {
     "data": {
      "text/plain": [
       "[1, 2, 3, 0, 4]"
      ]
     },
     "execution_count": 66,
     "metadata": {},
     "output_type": "execute_result"
    }
   ],
   "source": [
    "def to_adj_list(X):\n",
    "    n, m = X.shape\n",
    "    out_X = {i : set() for i in range(n)}\n",
    "    for i in range(n):\n",
    "        for j in range(m):\n",
    "            if X[i][j] != 0 and i != j:\n",
    "                out_X[i].add(j)\n",
    "    return out_X\n",
    "\n",
    "def min_deg_ang(X):\n",
    "    n, m = X.shape\n",
    "    X_adj = to_adj_list(X)\n",
    "\n",
    "    permutation = []\n",
    "    for k in range(n):\n",
    "        p = float('inf')\n",
    "        v_min = 0\n",
    "        for v_id, neighbours in X_adj.items():\n",
    "            if(p > len(neighbours)):\n",
    "                p = len(neighbours)\n",
    "                v_min = v_id\n",
    "\n",
    "        for v_id in X_adj.keys():\n",
    "            X_adj[v_id] =  X_adj[v_id].difference({v_min})\n",
    "\n",
    "        for niegh in X_adj[v_min]: #żeby nie odciąć reszty grafu\n",
    "            X_adj[niegh] = X_adj[niegh].union(X_adj[v_min].difference({niegh}))\n",
    "\n",
    "        X_adj.pop(v_min)\n",
    "        permutation.append(v_min)\n",
    "\n",
    "    return permutation\n",
    "\n",
    "min_deg_ang(X)"
   ]
  }
 ],
 "metadata": {
  "kernelspec": {
   "display_name": "base",
   "language": "python",
   "name": "python3"
  },
  "language_info": {
   "codemirror_mode": {
    "name": "ipython",
    "version": 3
   },
   "file_extension": ".py",
   "mimetype": "text/x-python",
   "name": "python",
   "nbconvert_exporter": "python",
   "pygments_lexer": "ipython3",
   "version": "3.11.5"
  }
 },
 "nbformat": 4,
 "nbformat_minor": 2
}
