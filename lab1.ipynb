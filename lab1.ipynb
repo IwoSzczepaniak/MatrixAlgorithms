{
 "cells": [
  {
   "cell_type": "markdown",
   "metadata": {},
   "source": [
    "# Zadanie 1"
   ]
  },
  {
   "cell_type": "markdown",
   "metadata": {},
   "source": [
    "## Część 1\n",
    "-> opracowanie rekurencyjnych algorytmów dla macierzy gęstych o złożoności $<n^3$"
   ]
  },
  {
   "cell_type": "markdown",
   "metadata": {},
   "source": [
    "##### Mnożenie macierzy gęstych"
   ]
  },
  {
   "cell_type": "code",
   "execution_count": 1,
   "metadata": {},
   "outputs": [],
   "source": [
    "import numpy as np"
   ]
  },
  {
   "cell_type": "code",
   "execution_count": 2,
   "metadata": {},
   "outputs": [],
   "source": [
    "from multi_algorithms import cauchy_binet_recursive, strassen_matrix_multiply"
   ]
  },
  {
   "cell_type": "markdown",
   "metadata": {},
   "source": [
    "##### Przykładowe testy"
   ]
  },
  {
   "cell_type": "code",
   "execution_count": 3,
   "metadata": {},
   "outputs": [
    {
     "name": "stdout",
     "output_type": "stream",
     "text": [
      "Matrix A:\n",
      "[[ 2  3  7  8]\n",
      " [ 4  5  9 10]\n",
      " [ 1  1  1  1]\n",
      " [ 2  4  9 11]]\n",
      "Matrix B:\n",
      "[[ 2  3  1  8]\n",
      " [ 4  1  9 10]\n",
      " [ 1  1  1  1]\n",
      " [ 2  4  9 11]]\n",
      "Binet:\n",
      "[[ 39.  48. 108. 141.]\n",
      " [ 57.  66. 148. 201.]\n",
      " [  9.   9.  20.  30.]\n",
      " [ 51.  63. 146. 186.]] 112\n",
      "Strassen:\n",
      "[[ 39  48 108 141]\n",
      " [ 57  66 148 201]\n",
      " [  9   9  20  30]\n",
      " [ 51  63 146 186]] 247\n"
     ]
    }
   ],
   "source": [
    "A = np.array([[2, 3, 7, 8], [4, 5, 9, 10], \n",
    "             [1, 1, 1, 1], [2, 4, 9, 11] ])\n",
    "B =np.array([[2, 3, 1, 8], [4, 1, 9, 10], \n",
    "             [1, 1, 1, 1], [2, 4, 9, 11] ])\n",
    "\n",
    "# A = np.array([[1,2], [3,4]])\n",
    "# B = np.array([[5,6], [7,8]])\n",
    "\n",
    "result1, c1 = cauchy_binet_recursive(A, B)\n",
    "\n",
    "result2, c2 = strassen_matrix_multiply(A, B)\n",
    "\n",
    "print(\"Matrix A:\")\n",
    "print(A)\n",
    "print(\"Matrix B:\")\n",
    "print(B)\n",
    "print(\"Binet:\")\n",
    "print(result1, c1)\n",
    "print(\"Strassen:\")\n",
    "print(result2, c2)"
   ]
  },
  {
   "cell_type": "markdown",
   "metadata": {},
   "source": [
    "##### Testy właściwe"
   ]
  },
  {
   "cell_type": "code",
   "execution_count": 4,
   "metadata": {},
   "outputs": [],
   "source": [
    "# create plot showing on y axis time consumed by cauchy_binet_recursive and on x axis k, where k is in range(2,16) and matrixes are size 2^k x 2^k\n",
    "\n",
    "import time\n",
    "from matplotlib import pyplot as plt\n",
    "x = []\n",
    "y_t = []\n",
    "y_op = []\n",
    "for k in range(2,9):\n",
    "    n = 2**k\n",
    "    A = np.random.rand(n,n)\n",
    "    B = np.random.rand(n,n)\n",
    "    start = time.time()\n",
    "    _, ops = cauchy_binet_recursive(A,B)\n",
    "    end = time.time()\n",
    "    x.append(k)\n",
    "    y_t.append(end-start)\n",
    "    y_op.append(ops)\n"
   ]
  },
  {
   "cell_type": "markdown",
   "metadata": {},
   "source": [
    "Czas potrzebny na wykonanie algorytmu"
   ]
  },
  {
   "cell_type": "code",
   "execution_count": 5,
   "metadata": {},
   "outputs": [
    {
     "name": "stdout",
     "output_type": "stream",
     "text": [
      "[0.0, 0.0010061264038085938, 0.00598454475402832, 0.051000118255615234, 0.4119901657104492, 3.3019981384277344, 26.50801157951355]\n"
     ]
    },
    {
     "data": {
      "image/png": "[encoded data removed]",
      "text/plain": [
       "<Figure size 432x288 with 1 Axes>"
      ]
     },
     "metadata": {
      "needs_background": "light"
     },
     "output_type": "display_data"
    }
   ],
   "source": [
    "plt.bar(x, y_t)\n",
    "plt.xlabel('k')\n",
    "plt.ylabel('time in seconds');\n",
    "print(y_t)"
   ]
  },
  {
   "cell_type": "markdown",
   "metadata": {},
   "source": [
    "Ilość operacji"
   ]
  },
  {
   "cell_type": "code",
   "execution_count": 6,
   "metadata": {},
   "outputs": [
    {
     "name": "stdout",
     "output_type": "stream",
     "text": [
      "[112, 960, 7936, 64512, 520192, 4177920, 33488896]\n"
     ]
    },
    {
     "data": {
      "image/png": "[encoded data removed]",
      "text/plain": [
       "<Figure size 432x288 with 1 Axes>"
      ]
     },
     "metadata": {
      "needs_background": "light"
     },
     "output_type": "display_data"
    }
   ],
   "source": [
    "plt.bar(x, y_op)\n",
    "plt.xlabel('k')\n",
    "plt.ylabel('amount of operations');\n",
    "print(y_op)"
   ]
  },
  {
   "cell_type": "code",
   "execution_count": 7,
   "metadata": {},
   "outputs": [],
   "source": [
    "x_s = []\n",
    "y_t_s = []\n",
    "y_op_s = []\n",
    "for k in range(2,9):\n",
    "    n = 2**k\n",
    "    A = np.random.rand(n,n)\n",
    "    B = np.random.rand(n,n)\n",
    "    start = time.time()\n",
    "    _, ops = strassen_matrix_multiply(A,B)\n",
    "    end = time.time()\n",
    "    x_s.append(k)\n",
    "    y_t_s.append(end-start)\n",
    "    y_op_s.append(ops)"
   ]
  },
  {
   "cell_type": "markdown",
   "metadata": {},
   "source": [
    "Czas potrzebny na wykonanie algorytmu"
   ]
  },
  {
   "cell_type": "code",
   "execution_count": 8,
   "metadata": {},
   "outputs": [
    {
     "name": "stdout",
     "output_type": "stream",
     "text": [
      "[0.0009946823120117188, 0.003001689910888672, 0.01600360870361328, 0.09900617599487305, 0.6989948749542236, 4.65301775932312, 31.52518367767334]\n"
     ]
    },
    {
     "data": {
      "image/png": "[encoded data removed]",
      "text/plain": [
       "<Figure size 432x288 with 1 Axes>"
      ]
     },
     "metadata": {
      "needs_background": "light"
     },
     "output_type": "display_data"
    }
   ],
   "source": [
    "plt.bar(x_s, y_t_s)\n",
    "plt.xlabel('k')\n",
    "plt.ylabel('time in seconds');\n",
    "print(y_t_s)"
   ]
  },
  {
   "cell_type": "markdown",
   "metadata": {},
   "source": [
    "Ilość operacji"
   ]
  },
  {
   "cell_type": "code",
   "execution_count": 9,
   "metadata": {},
   "outputs": [
    {
     "name": "stdout",
     "output_type": "stream",
     "text": [
      "[247, 2017, 15271, 111505, 798967, 5666497, 39960391]\n"
     ]
    },
    {
     "data": {
      "image/png": "[encoded data removed]",
      "text/plain": [
       "<Figure size 432x288 with 1 Axes>"
      ]
     },
     "metadata": {
      "needs_background": "light"
     },
     "output_type": "display_data"
    }
   ],
   "source": [
    "plt.bar(x_s, y_op_s)\n",
    "plt.xlabel('k')\n",
    "plt.ylabel('amount of operations');\n",
    "print(y_op_s)"
   ]
  }
 ],
 "metadata": {
  "kernelspec": {
   "display_name": "Python 3 (ipykernel)",
   "language": "python",
   "name": "python3"
  },
  "language_info": {
   "codemirror_mode": {
    "name": "ipython",
    "version": 3
   },
   "file_extension": ".py",
   "mimetype": "text/x-python",
   "name": "python",
   "nbconvert_exporter": "python",
   "pygments_lexer": "ipython3",
   "version": "3.9.12"
  }
 },
 "nbformat": 4,
 "nbformat_minor": 2
}
