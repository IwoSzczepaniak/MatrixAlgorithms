{
 "cells": [
  {
   "cell_type": "markdown",
   "metadata": {},
   "source": [
    "# Zadanie 1"
   ]
  },
  {
   "cell_type": "markdown",
   "metadata": {},
   "source": [
    "## Część 1\n",
    "-> opracowanie rekurencyjnych algorytmów dla macierzy gęstych o złożoności $<n^3$"
   ]
  },
  {
   "cell_type": "markdown",
   "metadata": {},
   "source": [
    "##### Mnożenie macierzy gęstych"
   ]
  },
  {
   "cell_type": "code",
   "execution_count": 20,
   "metadata": {},
   "outputs": [],
   "source": [
    "import numpy as np\n",
    "\n",
    "operations = 0\n",
    "\n",
    "def cauchy_binet_recursive(A, B):\n",
    "    global operations\n",
    "\n",
    "    if A.shape[1] != B.shape[0]:  \n",
    "        raise ValueError(\"Matrix dimensions are not compatible for multiplication\")\n",
    "\n",
    "    n = A.shape[1]\n",
    "\n",
    "    if n == 1: \n",
    "        operations+=1\n",
    "        return A[0, 0] * B[0, 0]\n",
    "\n",
    "    \n",
    "    # Split matrices A and B into submatrices\n",
    "    m = n // 2\n",
    "    A11, A12 = A[:m, :m], A[:m, m:]\n",
    "    A21, A22 = A[m:, :m], A[m:, m:]\n",
    "    B11, B12 = B[:m, :m], B[:m, m:]\n",
    "    B21, B22 = B[m:, :m], B[m:, m:]\n",
    "\n",
    "    # Recursively compute subdeterminants\n",
    "    LU = cauchy_binet_recursive(A11, B11) + cauchy_binet_recursive(A12, B21)\n",
    "    RU = cauchy_binet_recursive(A11, B12) + cauchy_binet_recursive(A12, B22)\n",
    "    LD = cauchy_binet_recursive(A21, B11) + cauchy_binet_recursive(A22, B21)\n",
    "    RD = cauchy_binet_recursive(A21, B12) + cauchy_binet_recursive(A22, B22)\n",
    "    operations += 4\n",
    "\n",
    "    result = np.zeros((n, n))\n",
    "    result[:m, :m] = LU\n",
    "    result[:m, m:] = RU\n",
    "    result[m:, :m] = LD\n",
    "    result[m:, m:] = RD\n",
    "\n",
    "    return result\n"
   ]
  },
  {
   "cell_type": "code",
   "execution_count": null,
   "metadata": {},
   "outputs": [],
   "source": [
    "def strassen_matrix_multiply(matrix_a, matrix_b):\n",
    "    if matrix_a.shape[1] != matrix_b.shape[0]:\n",
    "        raise ValueError(\"The number of columns in matrix A must be equal to the number of rows in matrix B\")\n",
    "\n",
    "    if matrix_a.shape[0] == 1 and matrix_a.shape[1] == 1:\n",
    "        return matrix_a * matrix_b\n",
    "\n",
    "    # Split the matrices into four equal-sized parts\n",
    "    split_size = matrix_a.shape[0] // 2\n",
    "\n",
    "    a11, a12 = matrix_a[:split_size, :split_size], matrix_a[:split_size, split_size:]\n",
    "    a21, a22 = matrix_a[split_size:, :split_size], matrix_a[split_size:, split_size:]\n",
    "\n",
    "    b11, b12 = matrix_b[:split_size, :split_size], matrix_b[:split_size, split_size:]\n",
    "    b21, b22 = matrix_b[split_size:, :split_size], matrix_b[split_size:, split_size:]\n",
    "\n",
    "    # Calculate the 7 products P1 to P7 using Strassen's method\n",
    "    p1 = strassen_matrix_multiply(a11, (b12 - b22))\n",
    "    p2 = strassen_matrix_multiply((a11 + a12), b22)\n",
    "    p3 = strassen_matrix_multiply((a21 + a22), b11)\n",
    "    p4 = strassen_matrix_multiply(a22, (b21 - b11))\n",
    "    p5 = strassen_matrix_multiply((a11 + a22), (b11 + b22))\n",
    "    p6 = strassen_matrix_multiply((a12 - a22), (b21 + b22))\n",
    "    p7 = strassen_matrix_multiply((a11 - a21), (b11 + b12))\n",
    "\n",
    "    # Calculate the four parts of the result matrix\n",
    "    c11 = p5 + p4 - p2 + p6\n",
    "    c12 = p1 + p2\n",
    "    c21 = p3 + p4\n",
    "    c22 = p5 + p1 - p3 - p7\n",
    "\n",
    "    # Combine the results\n",
    "    top = np.hstack((c11, c12))\n",
    "    bottom = np.hstack((c21, c22))\n",
    "    result = np.vstack((top, bottom))\n",
    "\n",
    "    return result"
   ]
  },
  {
   "cell_type": "markdown",
   "metadata": {},
   "source": [
    "##### Przykładowe testy"
   ]
  },
  {
   "cell_type": "code",
   "execution_count": 3,
   "metadata": {},
   "outputs": [
    {
     "name": "stdout",
     "output_type": "stream",
     "text": [
      "[[13 14 15 16]\n",
      " [ 5  6  7  8]\n",
      " [ 9 10 11 12]\n",
      " [ 1  2  3  4]]\n",
      "Product of A and B is:\n",
      " [[13. 14. 15. 16.]\n",
      " [ 5.  6.  7.  8.]\n",
      " [ 9. 10. 11. 12.]\n",
      " [ 1.  2.  3.  4.]]\n"
     ]
    }
   ],
   "source": [
    "# Example usage:\n",
    "A = np.array([[0, 0, 0, 1], [0, 1, 0, 0], [0,0,1,0], [1,0,0,0]])\n",
    "B = np.array([[1,2,3,4], [5,6,7,8], [9,10,11,12], [13,14,15,16]])\n",
    "\n",
    "# A = np.array([[1,2], [3,4]])\n",
    "# B = np.array([[5,6], [7,8]])\n",
    "\n",
    "print(np.dot(A,B))\n",
    "result = cauchy_binet_recursive(A, B)\n",
    "print(\"Product of A and B is:\\n\", result)"
   ]
  },
  {
   "cell_type": "markdown",
   "metadata": {},
   "source": [
    "##### Testy właściwe"
   ]
  },
  {
   "cell_type": "code",
   "execution_count": 29,
   "metadata": {},
   "outputs": [],
   "source": [
    "# create plot showing on y axis time consumed by cauchy_binet_recursive and on x axis k, where k is in range(2,16) and matrixes are size 2^k x 2^k\n",
    "\n",
    "import time\n",
    "from matplotlib import pyplot as plt\n",
    "global operations\n",
    "x = []\n",
    "y_t = []\n",
    "y_op = []\n",
    "for k in range(2,8):\n",
    "    n = 2**k\n",
    "    A = np.random.rand(n,n)\n",
    "    B = np.random.rand(n,n)\n",
    "    operations = 0\n",
    "    start = time.time()\n",
    "    cauchy_binet_recursive(A,B)\n",
    "    end = time.time()\n",
    "    x.append(k)\n",
    "    y_t.append(end-start)\n",
    "    y_op.append(operations)\n"
   ]
  },
  {
   "cell_type": "markdown",
   "metadata": {},
   "source": [
    "Czas potrzebny na wykonanie algorytmu"
   ]
  },
  {
   "cell_type": "code",
   "execution_count": 30,
   "metadata": {},
   "outputs": [
    {
     "data": {
      "image/png": "[encoded data removed]",
      "text/plain": [
       "<Figure size 432x288 with 1 Axes>"
      ]
     },
     "metadata": {
      "needs_background": "light"
     },
     "output_type": "display_data"
    }
   ],
   "source": [
    "plt.bar(x, y_t)\n",
    "plt.xlabel('k')\n",
    "plt.ylabel('time in seconds');"
   ]
  },
  {
   "cell_type": "markdown",
   "metadata": {},
   "source": [
    "Ilość operacji"
   ]
  },
  {
   "cell_type": "code",
   "execution_count": 31,
   "metadata": {},
   "outputs": [
    {
     "data": {
      "image/png": "[encoded data removed]",
      "text/plain": [
       "<Figure size 432x288 with 1 Axes>"
      ]
     },
     "metadata": {
      "needs_background": "light"
     },
     "output_type": "display_data"
    }
   ],
   "source": [
    "plt.bar(x, y_op)\n",
    "plt.xlabel('k')\n",
    "plt.ylabel('amount of operations');"
   ]
  }
 ],
 "metadata": {
  "kernelspec": {
   "display_name": "Python 3 (ipykernel)",
   "language": "python",
   "name": "python3"
  },
  "language_info": {
   "codemirror_mode": {
    "name": "ipython",
    "version": 3
   },
   "file_extension": ".py",
   "mimetype": "text/x-python",
   "name": "python",
   "nbconvert_exporter": "python",
   "pygments_lexer": "ipython3",
   "version": "3.10.9"
  }
 },
 "nbformat": 4,
 "nbformat_minor": 2
}
