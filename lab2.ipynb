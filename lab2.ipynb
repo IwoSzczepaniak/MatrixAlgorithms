{
 "cells": [
  {
   "cell_type": "markdown",
   "metadata": {},
   "source": [
    "# Zadanie 2"
   ]
  },
  {
   "cell_type": "code",
   "execution_count": null,
   "metadata": {},
   "outputs": [],
   "source": [
    "nr_tries = 5"
   ]
  },
  {
   "cell_type": "markdown",
   "metadata": {},
   "source": [
    "## Rekurenycjne odwracanie macierzy"
   ]
  },
  {
   "cell_type": "code",
   "execution_count": null,
   "metadata": {},
   "outputs": [],
   "source": [
    "import numpy as np\n",
    "\n",
    "def multi_dot(dot_m, arrays): \n",
    "    '''\n",
    "    function used to make multiple dots in one go\n",
    "    '''\n",
    "    result, op = dot_m(arrays[0], arrays[1])\n",
    "    for i in range(2, len(arrays)):\n",
    "        result, op_new = dot_m(result, arrays[i])\n",
    "        op+=op_new\n",
    "    return result, op\n",
    "\n",
    "\n",
    "def recursive_inversion(matrix, dot_method):   \n",
    "    '''\n",
    "    function returns inverted matrix and operations it took to invert\n",
    "    '''\n",
    "    cnt = 0\n",
    "    if matrix.shape[0] != matrix.shape[1]: raise Exception('Matrix is not a square')\n",
    "    \n",
    "    if matrix.shape == (1, 1):\n",
    "        if matrix[0, 0] == 0: raise Exception('Matrix is invertible')\n",
    "        cnt += 1\n",
    "        return np.array([[1/matrix[0, 0]]]), cnt\n",
    "    \n",
    "    elif matrix.shape == (2, 2):\n",
    "        det = matrix[0, 0]*matrix[1, 1] - matrix[0, 1]*matrix[1, 0]\n",
    "        if det == 0: raise Exception('Matrix is invertible')\n",
    "        cnt += 6\n",
    "        return np.array([[matrix[1, 1]/det, -matrix[0, 1]/det], [-matrix[1, 0]/det, matrix[0, 0]/det]]), cnt\n",
    "    \n",
    "    \n",
    "    n = matrix.shape[0]\n",
    "    m = n//2\n",
    "    A = matrix[:m, :m]\n",
    "    B = matrix[:m, m:]\n",
    "    C = matrix[m:, :m]\n",
    "    D = matrix[m:, m:]\n",
    "    \n",
    "    A_inv, cnt1 = recursive_inversion(A, dot_method)\n",
    "    Mul_Prod_1, mp_cnt_1 = multi_dot(dot_method, [C, A_inv, B])\n",
    "    Common, cnt2 = recursive_inversion(D - Mul_Prod_1, dot_method)\n",
    "    # zwrócić uwagę na D-Mul_Prod\n",
    "\n",
    "    Mul_Prod_2, mp_cnt_2 =multi_dot(dot_method, [A_inv, B, Common, C, A_inv])\n",
    "    P = A_inv+Mul_Prod_2\n",
    "    # zwrócić uwagę na A_inv+Mul_Prod_2\n",
    "\n",
    "    Mul_Prod_3, mp_cnt_3 =multi_dot(dot_method, [A_inv, B, Common])\n",
    "    Q = -Mul_Prod_3\n",
    "    Mul_Prod_4, mp_cnt_4 = multi_dot(dot_method, [Common, C, A_inv])\n",
    "    R = -Mul_Prod_4\n",
    "\n",
    "    S = Common  \n",
    "\n",
    "    Top = np.row_stack([P, R])\n",
    "    Bottom = np.row_stack([Q,S])\n",
    "    cnt += cnt1 + cnt2 + mp_cnt_1 + mp_cnt_2 + mp_cnt_3 + mp_cnt_4\n",
    "\n",
    "    return np.column_stack([Top, Bottom]), cnt\n",
    "    \n",
    "\n"
   ]
  },
  {
   "cell_type": "code",
   "execution_count": null,
   "metadata": {},
   "outputs": [],
   "source": [
    "def assert_same(A, B, sigma = 1e-2):\n",
    "    for i,row in enumerate(A):\n",
    "        for j, el in enumerate(row):\n",
    "            assert abs(el-B[i][j]) < sigma"
   ]
  },
  {
   "cell_type": "code",
   "execution_count": null,
   "metadata": {},
   "outputs": [],
   "source": [
    "import time\n",
    "from matplotlib import pyplot as plt\n",
    "from multi_algorithms import cauchy_binet_recursive, strassen_matrix_multiply\n",
    "\n",
    "\n",
    "def test_algorithm(max_k):\n",
    "    x = []\n",
    "    y_t = [[] for _ in range(2)]\n",
    "    y_op = [[] for _ in range(2)]\n",
    "    for k in range(2,max_k+1):\n",
    "        n = 2**k\n",
    "        A = np.random.rand(n,n)\n",
    "\n",
    "        start = time.time()\n",
    "        A_inv, ops = recursive_inversion(A, cauchy_binet_recursive)\n",
    "        end = time.time()\n",
    "\n",
    "        assert_same(A_inv, np.linalg.inv(A))\n",
    "        y_t[0].append(end-start)\n",
    "        y_op[0].append(ops)\n",
    "\n",
    "        start = time.time()\n",
    "        A_inv, ops = recursive_inversion(A, strassen_matrix_multiply)\n",
    "        end = time.time()\n",
    "\n",
    "        assert_same(A_inv, np.linalg.inv(A))\n",
    "        y_t[1].append(end-start)\n",
    "        y_op[1].append(ops)\n",
    "\n",
    "        x.append(k)\n",
    "\n",
    "\n",
    "    return x, y_t, y_op\n"
   ]
  },
  {
   "cell_type": "markdown",
   "metadata": {},
   "source": [
    "Tests"
   ]
  },
  {
   "cell_type": "code",
   "execution_count": null,
   "metadata": {},
   "outputs": [],
   "source": [
    "x, y_t, y_op = test_algorithm(nr_tries)\n"
   ]
  },
  {
   "cell_type": "code",
   "execution_count": null,
   "metadata": {},
   "outputs": [],
   "source": [
    "# plot two bars on one plot\n",
    "plt.figure(figsize=(14,7))\n",
    "plt.subplot(1,2,1)\n",
    "plt.suptitle('Time of recursive inversion depending on chosen multiplication algorithm:')\n",
    "plt.bar(x, y_t[0])\n",
    "plt.title('Cauchy-Binet')\n",
    "plt.xlabel('k')\n",
    "plt.ylabel('Time[s]')\n",
    "plt.ylim(top=65)\n",
    "plt.subplot(1,2,2)\n",
    "plt.bar(x, y_t[1], color=\"green\")\n",
    "plt.title('Strassen')\n",
    "plt.xlabel('k')\n",
    "plt.ylabel('Time[s]')\n",
    "plt.ylim(top=65)\n",
    "\n",
    "print([str(round(el,2)) + 's' for el in y_t[0]])\n",
    "print([str(round(el,2)) + 's' for el in y_t[1]])\n"
   ]
  },
  {
   "cell_type": "code",
   "execution_count": null,
   "metadata": {},
   "outputs": [],
   "source": [
    "# plot two bars on one plot\n",
    "plt.figure(figsize=(14,7))\n",
    "plt.subplot(1,2,1)\n",
    "plt.suptitle('Operations of recursive inversion depending on chosen multiplication algorithm:')\n",
    "plt.bar(x, y_op[0])\n",
    "plt.title('Cauchy-Binet')\n",
    "plt.xlabel('k')\n",
    "plt.ylabel('number of operations')\n",
    "plt.subplot(1,2,2)\n",
    "plt.ylim(top=8e7)\n",
    "plt.bar(x, y_op[1], color = \"green\")\n",
    "plt.title('Strassen')\n",
    "plt.xlabel('k')\n",
    "plt.ylabel('number of operations')\n",
    "plt.ylim(top=8e7)\n",
    "\n",
    "print(y_op[0])\n",
    "print(y_op[1])"
   ]
  },
  {
   "cell_type": "markdown",
   "metadata": {},
   "source": [
    "## LU faktoryzacja"
   ]
  },
  {
   "cell_type": "code",
   "execution_count": null,
   "metadata": {},
   "outputs": [],
   "source": [
    "def lu_decomposition(A, dot_method):\n",
    "    n = len(A)\n",
    "    \n",
    "    if n == 1:\n",
    "        L = np.array([[1]])\n",
    "        U = A\n",
    "        return L, U, 0\n",
    "\n",
    "    A11 = A[:n//2, :n//2]\n",
    "    A12 = A[:n//2, n//2:]\n",
    "    A21 = A[n//2:, :n//2]\n",
    "    A22 = A[n//2:, n//2:]\n",
    "\n",
    "    L11, U11, count1 = lu_decomposition(A11, dot_method)\n",
    "    U11_inv, count2 = recursive_inversion(U11, dot_method)\n",
    "    L21, count3 = dot_method(A21, U11_inv)\n",
    "    L11_inv, count4 = recursive_inversion(L11, dot_method)\n",
    "    U12, count5 = dot_method(L11_inv, A12)\n",
    "    A21U11_inv, count6 = dot_method(A21, U11_inv)\n",
    "    L11_invA12, count7 = dot_method(L11_inv, A12)\n",
    "    tmp, count8 = dot_method(A21U11_inv, L11_invA12)\n",
    "    S, count9 = A22 - tmp, tmp.shape[0]*tmp.shape[0]\n",
    "    # Zwrócić uwagę A22 - tmp\n",
    "    Ls, Us, count10 = lu_decomposition(S, dot_method)\n",
    "    U22 = Us\n",
    "    L22 = Ls\n",
    "\n",
    "    L1 = np.hstack((L11, np.zeros((n//2, n//2))))\n",
    "    L2 = np.hstack((L21, L22))\n",
    "    L = np.vstack((L1, L2))\n",
    "\n",
    "    U1 = np.hstack((U11, U12))\n",
    "    U2 = np.hstack((np.zeros((n//2, n//2)), U22))\n",
    "    U = np.vstack((U1, U2))\n",
    "    \n",
    "    count = count1 + count2 + count3 + count4 + count5 + count6 + count7 + count8 + count9 + count10\n",
    "\n",
    "    return L, U, count"
   ]
  },
  {
   "cell_type": "code",
   "execution_count": null,
   "metadata": {},
   "outputs": [],
   "source": [
    "def test_lu(max_k):\n",
    "    x = []\n",
    "    y_t = [[] for _ in range(2)]\n",
    "    y_op = [[] for _ in range(2)]\n",
    "    for k in range(2,max_k+1):\n",
    "        n = 2**k\n",
    "        A = np.random.rand(n,n)\n",
    "\n",
    "        start = time.time()\n",
    "        L, U, ops = lu_decomposition(A, cauchy_binet_recursive)\n",
    "        end = time.time()\n",
    "         \n",
    "        assert_same(A, L @ U)\n",
    "        y_t[0].append(end-start)\n",
    "        y_op[0].append(ops)\n",
    "\n",
    "        start = time.time()\n",
    "        L, U, ops = lu_decomposition(A, strassen_matrix_multiply)\n",
    "        end = time.time()\n",
    "\n",
    "        assert_same(A, L @ U)\n",
    "        y_t[1].append(end-start)\n",
    "        y_op[1].append(ops)\n",
    "\n",
    "        x.append(k)\n",
    "\n",
    "\n",
    "    return x, y_t, y_op"
   ]
  },
  {
   "cell_type": "markdown",
   "metadata": {},
   "source": [
    "Testy"
   ]
  },
  {
   "cell_type": "code",
   "execution_count": null,
   "metadata": {},
   "outputs": [],
   "source": [
    "x, y_t, y_op = test_lu(nr_tries)"
   ]
  },
  {
   "cell_type": "code",
   "execution_count": null,
   "metadata": {},
   "outputs": [],
   "source": [
    "# plot two bars on one plot\n",
    "plt.figure(figsize=(14,7))\n",
    "plt.subplot(1,2,1)\n",
    "plt.suptitle('Time of LU decomposition depending on chosen multiplication algorithm:')\n",
    "plt.bar(x, y_t[0])\n",
    "plt.title('Cauchy-Binet')\n",
    "plt.xlabel('k')\n",
    "plt.ylabel('Time[s]')\n",
    "plt.ylim(top=60)\n",
    "plt.subplot(1,2,2)\n",
    "plt.bar(x, y_t[1], color = \"green\")\n",
    "plt.title('Strassen')\n",
    "plt.xlabel('k')\n",
    "plt.ylabel('Time[s]')\n",
    "plt.ylim(top=60)\n",
    "\n",
    "\n",
    "print([str(round(el,2)) + 's' for el in y_t[0]])\n",
    "print([str(round(el,2)) + 's' for el in y_t[1]])"
   ]
  },
  {
   "cell_type": "code",
   "execution_count": null,
   "metadata": {},
   "outputs": [],
   "source": [
    "# plot two bars on one plot\n",
    "plt.figure(figsize=(14,7))\n",
    "plt.subplot(1,2,1)\n",
    "plt.suptitle('Operations of LU decomposition depending on chosen multiplication algorithm:')\n",
    "plt.bar(x, y_op[0])\n",
    "plt.title('Cauchy-Binet')\n",
    "plt.xlabel('k')\n",
    "plt.ylabel('number of operations')\n",
    "plt.subplot(1,2,2)\n",
    "plt.ylim(top=7e7)\n",
    "plt.bar(x, y_op[1], color = \"green\")\n",
    "plt.title('Strassen')\n",
    "plt.xlabel('k')\n",
    "plt.ylabel('number of operations')\n",
    "plt.ylim(top=7e7)\n",
    "\n",
    "print(y_op[0])\n",
    "print(y_op[1])"
   ]
  },
  {
   "cell_type": "markdown",
   "metadata": {},
   "source": [
    "## Wyznacznik"
   ]
  },
  {
   "cell_type": "code",
   "execution_count": null,
   "metadata": {},
   "outputs": [],
   "source": [
    "def det(A, dot_method):\n",
    "    \n",
    "    L, U, count = lu_decomposition(A, dot_method)\n",
    "\n",
    "    det_L = np.prod(np.diagonal(L))  \n",
    "    det_U = np.prod(np.diagonal(U))  \n",
    "\n",
    "    return det_U*det_L, count + 2*U.shape[0] + 1"
   ]
  },
  {
   "cell_type": "code",
   "execution_count": null,
   "metadata": {},
   "outputs": [],
   "source": [
    "def test_det(max_k, sigma=10e-4):\n",
    "    x = []\n",
    "    y_t = [[] for _ in range(2)]\n",
    "    y_op = [[] for _ in range(2)]\n",
    "    for k in range(2,max_k+1):\n",
    "        print(f\"Tests for k = {k}:\")\n",
    "        n = 2**k\n",
    "        A = np.random.rand(n,n)\n",
    "\n",
    "        start = time.time()\n",
    "        detA, ops = det(A, cauchy_binet_recursive)\n",
    "        end = time.time()\n",
    "\n",
    "        res1 = detA - np.linalg.det(A)\n",
    "        print(\"{:.2e}\".format(res1), \"ch\", end= \" \\t\")\n",
    "\n",
    "        y_t[0].append(end-start)\n",
    "        y_op[0].append(ops)\n",
    "\n",
    "        start = time.time()\n",
    "        detA, ops = det(A, strassen_matrix_multiply)\n",
    "        end = time.time()\n",
    "\n",
    "        res2 = detA - np.linalg.det(A)\n",
    "        print(\"{:.2e}\".format(res2), \"st\")\n",
    "\n",
    "        y_t[1].append(end-start)\n",
    "        y_op[1].append(ops)\n",
    "\n",
    "        x.append(k)\n",
    "\n",
    "\n",
    "    return x, y_t, y_op"
   ]
  },
  {
   "cell_type": "markdown",
   "metadata": {},
   "source": [
    "Testy"
   ]
  },
  {
   "cell_type": "code",
   "execution_count": null,
   "metadata": {},
   "outputs": [],
   "source": [
    "x, y_t, y_op = test_det(nr_tries)"
   ]
  },
  {
   "cell_type": "code",
   "execution_count": null,
   "metadata": {},
   "outputs": [],
   "source": [
    "# plot two bars on one plot\n",
    "plt.figure(figsize=(14,7))\n",
    "plt.subplot(1,2,1)\n",
    "plt.suptitle('Time of determinant depending on chosen multiplication algorithm:')\n",
    "plt.bar(x, y_t[0])\n",
    "plt.title('Cauchy-Binet')\n",
    "plt.xlabel('k')\n",
    "plt.ylabel('Time[s]')\n",
    "plt.ylim(top=60)\n",
    "plt.subplot(1,2,2)\n",
    "plt.bar(x, y_t[1], color = \"green\")\n",
    "plt.title('Strassen')\n",
    "plt.xlabel('k')\n",
    "plt.ylabel('Time[s]')\n",
    "plt.ylim(top=60)\n",
    "\n",
    "print([str(round(el,2)) + 's' for el in y_t[0]])\n",
    "print([str(round(el,2)) + 's' for el in y_t[1]])"
   ]
  },
  {
   "cell_type": "code",
   "execution_count": null,
   "metadata": {},
   "outputs": [],
   "source": [
    "# plot two bars on one plot\n",
    "plt.figure(figsize=(14,7))\n",
    "plt.subplot(1,2,1)\n",
    "plt.suptitle('Operations of determinant depending on chosen multiplication algorithm:')\n",
    "plt.bar(x, y_op[0])\n",
    "plt.title('Cauchy-Binet')\n",
    "plt.xlabel('k')\n",
    "plt.ylabel('number of operations')\n",
    "plt.ylim(top=7e7)\n",
    "plt.subplot(1,2,2)\n",
    "plt.bar(x, y_op[1], color = \"green\")\n",
    "plt.title('Strassen')\n",
    "plt.xlabel('k')\n",
    "plt.ylabel('number of operations')\n",
    "plt.ylim(top=7e7)\n",
    "\n",
    "\n",
    "print(y_op[0])\n",
    "print(y_op[1])"
   ]
  },
  {
   "cell_type": "code",
   "execution_count": null,
   "metadata": {},
   "outputs": [],
   "source": [
    "# test inv and det on simple ex\n",
    "A = np.array([[6, 4],[ 2, 9]])\n",
    "print(f\"inputed Array\\n\", A)\n",
    "print(\"Inv array:\\n\", recursive_inversion(A, cauchy_binet_recursive)[0])\n",
    "print(\"Det array: \",det(A, strassen_matrix_multiply)[0])\n"
   ]
  }
 ],
 "metadata": {
  "kernelspec": {
   "display_name": "Python 3 (ipykernel)",
   "language": "python",
   "name": "python3"
  },
  "language_info": {
   "codemirror_mode": {
    "name": "ipython",
    "version": 3
   },
   "file_extension": ".py",
   "mimetype": "text/x-python",
   "name": "python",
   "nbconvert_exporter": "python",
   "pygments_lexer": "ipython3",
   "version": "3.9.12"
  }
 },
 "nbformat": 4,
 "nbformat_minor": 2
}
