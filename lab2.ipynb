{
 "cells": [
  {
   "cell_type": "markdown",
   "metadata": {},
   "source": [
    "## Zadanie 2"
   ]
  },
  {
   "cell_type": "markdown",
   "metadata": {},
   "source": [
    "##### Rekurenycjne odwracanie macierzy"
   ]
  },
  {
   "cell_type": "code",
   "execution_count": 237,
   "metadata": {},
   "outputs": [],
   "source": [
    "import numpy as np"
   ]
  },
  {
   "cell_type": "code",
   "execution_count": 249,
   "metadata": {},
   "outputs": [],
   "source": [
    "from functools import reduce\n",
    "def multi_dot(arrays): return reduce(np.dot, arrays)\n",
    "\n",
    "\n",
    "def recursive_inversion(matrix):\n",
    "    if matrix.shape[0] != matrix.shape[1]: raise Exception('Matrix is not a square')\n",
    "    \n",
    "    if matrix.shape == (1, 1):\n",
    "        return np.array([[1/matrix[0, 0]]])\n",
    "    \n",
    "    if matrix.shape == (2, 2):\n",
    "        det = matrix[0, 0]*matrix[1, 1] - matrix[0, 1]*matrix[1, 0]\n",
    "        if det == 0: raise Exception('Matrix is invertible')\n",
    "        return np.array([[matrix[1, 1]/det, -matrix[0, 1]/det], [-matrix[1, 0]/det, matrix[0, 0]/det]])\n",
    "    \n",
    "    else:\n",
    "        n = matrix.shape[0]\n",
    "        m = n//2\n",
    "        A = matrix[:m, :m]\n",
    "        B = matrix[:m, m:]\n",
    "        C = matrix[m:, :m]\n",
    "        D = matrix[m:, m:]\n",
    "        \n",
    "        A_inv = recursive_inversion(A)\n",
    "        Common = recursive_inversion(D - multi_dot([C, A_inv, B]))\n",
    "        \n",
    "        P = A_inv+multi_dot([A_inv, B, Common, C, A_inv])\n",
    "        Q = -multi_dot([A_inv, B, Common])\n",
    "        R = -multi_dot([Common, C, A_inv])\n",
    "        S = Common  \n",
    "\n",
    "        Top = np.row_stack([P, R])\n",
    "        Bottom = np.row_stack([Q,S])\n",
    "\n",
    "        return np.column_stack([Top, Bottom])\n",
    "    \n",
    "def assert_same(A, B, sigma = 1e-7):\n",
    "    for i,row in enumerate(A):\n",
    "        for j, el in enumerate(row):\n",
    "            assert abs(el-B[i][j]) < sigma\n"
   ]
  },
  {
   "cell_type": "code",
   "execution_count": 258,
   "metadata": {},
   "outputs": [],
   "source": [
    "import time\n",
    "from matplotlib import pyplot as plt\n",
    "\n",
    "x = []\n",
    "y_t = []\n",
    "# y_op = []\n",
    "for k in range(2,13):\n",
    "    n = 2**k\n",
    "    A = np.random.rand(n,n)\n",
    "    start = time.time()\n",
    "    _ = recursive_inversion(A)\n",
    "    end = time.time()\n",
    "    x.append(k)\n",
    "    y_t.append(end-start)\n"
   ]
  },
  {
   "cell_type": "code",
   "execution_count": 261,
   "metadata": {},
   "outputs": [
    {
     "data": {
      "image/png": "[encoded data removed]",
      "text/plain": [
       "<Figure size 432x288 with 1 Axes>"
      ]
     },
     "metadata": {
      "needs_background": "light"
     },
     "output_type": "display_data"
    }
   ],
   "source": [
    "plt.bar(x, y_t)\n",
    "plt.xlabel('k')\n",
    "plt.ylabel('time in seconds');"
   ]
  },
  {
   "cell_type": "code",
   "execution_count": null,
   "metadata": {},
   "outputs": [],
   "source": []
  }
 ],
 "metadata": {
  "kernelspec": {
   "display_name": "base",
   "language": "python",
   "name": "python3"
  },
  "language_info": {
   "codemirror_mode": {
    "name": "ipython",
    "version": 3
   },
   "file_extension": ".py",
   "mimetype": "text/x-python",
   "name": "python",
   "nbconvert_exporter": "python",
   "pygments_lexer": "ipython3",
   "version": "3.9.12"
  }
 },
 "nbformat": 4,
 "nbformat_minor": 2
}
