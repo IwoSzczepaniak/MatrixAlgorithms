{
 "cells": [
  {
   "cell_type": "markdown",
   "metadata": {},
   "source": [
    "## Zadanie 2"
   ]
  },
  {
   "cell_type": "markdown",
   "metadata": {},
   "source": [
    "##### Rekurenycjne odwracanie macierzy"
   ]
  },
  {
   "cell_type": "code",
   "execution_count": 121,
   "metadata": {},
   "outputs": [],
   "source": [
    "import numpy as np\n",
    "\n",
    "def multi_dot(dot_m, arrays): \n",
    "    '''\n",
    "    function used to make multiple dots in one go\n",
    "    '''\n",
    "    result, op = dot_m(arrays[0], arrays[1])\n",
    "    for i in range(2, len(arrays)):\n",
    "        result, op_new = dot_m(result, arrays[i])\n",
    "        op+=op_new\n",
    "    return result, op\n",
    "\n",
    "\n",
    "def recursive_inversion(matrix, dot_method):   \n",
    "    '''\n",
    "    function returns inverted matrix and operations it took to invert\n",
    "    '''\n",
    "    cnt = 0\n",
    "    if matrix.shape[0] != matrix.shape[1]: raise Exception('Matrix is not a square')\n",
    "    \n",
    "    if matrix.shape == (1, 1):\n",
    "        if matrix[0, 0] == 0: raise Exception('Matrix is invertible')\n",
    "        cnt += 1\n",
    "        return np.array([[1/matrix[0, 0]]]), cnt\n",
    "    \n",
    "    if matrix.shape == (2, 2):\n",
    "        det = matrix[0, 0]*matrix[1, 1] - matrix[0, 1]*matrix[1, 0]\n",
    "        if det == 0: raise Exception('Matrix is invertible')\n",
    "        cnt += 6\n",
    "        return np.array([[matrix[1, 1]/det, -matrix[0, 1]/det], [-matrix[1, 0]/det, matrix[0, 0]/det]]), cnt\n",
    "    \n",
    "    else:\n",
    "        n = matrix.shape[0]\n",
    "        m = n//2\n",
    "        A = matrix[:m, :m]\n",
    "        B = matrix[:m, m:]\n",
    "        C = matrix[m:, :m]\n",
    "        D = matrix[m:, m:]\n",
    "        \n",
    "        A_inv, cnt1 = recursive_inversion(A, dot_method)\n",
    "        md_val_1, md_cnt_1 = multi_dot(dot_method, [C, A_inv, B])\n",
    "        Common, cnt2 = recursive_inversion(D - md_val_1, dot_method)\n",
    "\n",
    "        md_val_2, md_cnt_2 =multi_dot(dot_method, [A_inv, B, Common, C, A_inv])\n",
    "        P = A_inv+md_val_2\n",
    "        md_val_3, md_cnt_3 =multi_dot(dot_method, [A_inv, B, Common])\n",
    "        Q = -md_val_3\n",
    "        md_val_4, md_cnt_4 = multi_dot(dot_method, [Common, C, A_inv])\n",
    "        R = -md_val_4\n",
    "\n",
    "        S = Common  \n",
    "\n",
    "        Top = np.row_stack([P, R])\n",
    "        Bottom = np.row_stack([Q,S])\n",
    "        cnt += cnt1 + cnt2 + md_cnt_1 + md_cnt_2 + md_cnt_3 + md_cnt_4\n",
    "\n",
    "        return np.column_stack([Top, Bottom]), cnt\n",
    "    \n",
    "\n"
   ]
  },
  {
   "cell_type": "code",
   "execution_count": 122,
   "metadata": {},
   "outputs": [],
   "source": [
    "def assert_same(A, B, sigma = 1e-5):\n",
    "    for i,row in enumerate(A):\n",
    "        for j, el in enumerate(row):\n",
    "            assert abs(el-B[i][j]) < sigma"
   ]
  },
  {
   "cell_type": "code",
   "execution_count": 123,
   "metadata": {},
   "outputs": [],
   "source": [
    "import time\n",
    "from matplotlib import pyplot as plt\n",
    "from multi_algorithms import cauchy_binet_recursive, strassen_matrix_multiply\n",
    "\n",
    "\n",
    "def test_algorithm(max_k):\n",
    "    x = []\n",
    "    y_t = [[] for _ in range(2)]\n",
    "    y_op = [[] for _ in range(2)]\n",
    "    for k in range(2,max_k+1):\n",
    "        n = 2**k\n",
    "        A = np.random.rand(n,n)\n",
    "\n",
    "        start = time.time()\n",
    "        A_inv, ops = recursive_inversion(A, cauchy_binet_recursive)\n",
    "        end = time.time()\n",
    "\n",
    "        assert_same(A_inv, np.linalg.inv(A))\n",
    "        y_t[0].append(end-start)\n",
    "        y_op[0].append(ops)\n",
    "\n",
    "        start = time.time()\n",
    "        A_inv, ops = recursive_inversion(A, strassen_matrix_multiply)\n",
    "        end = time.time()\n",
    "\n",
    "        assert_same(A_inv, np.linalg.inv(A))\n",
    "        y_t[1].append(end-start)\n",
    "        y_op[1].append(ops)\n",
    "\n",
    "        x.append(k)\n",
    "\n",
    "\n",
    "    return x, y_t, y_op\n"
   ]
  },
  {
   "cell_type": "code",
   "execution_count": 124,
   "metadata": {},
   "outputs": [],
   "source": [
    "x, y_t, y_op = test_algorithm(8)\n"
   ]
  },
  {
   "cell_type": "code",
   "execution_count": 142,
   "metadata": {},
   "outputs": [
    {
     "name": "stdout",
     "output_type": "stream",
     "text": [
      "['0.0s', '0.0s', '0.01s', '0.09s', '0.67s', '5.44s', '43.34s']\n",
      "['0.0s', '0.0s', '0.03s', '0.18s', '1.26s', '8.84s', '62.44s']\n"
     ]
    },
    {
     "data": {
      "image/png": "[encoded data removed]",
      "text/plain": [
       "<Figure size 1008x504 with 2 Axes>"
      ]
     },
     "metadata": {
      "needs_background": "light"
     },
     "output_type": "display_data"
    }
   ],
   "source": [
    "# plot two bars on one plot\n",
    "plt.figure(figsize=(14,7))\n",
    "plt.subplot(1,2,1)\n",
    "plt.suptitle('Time of recursive inversion depending on chosen multiplication algorithm:')\n",
    "plt.bar(x, y_t[0])\n",
    "plt.title('Cauchy-Binet')\n",
    "plt.xlabel('k')\n",
    "plt.ylabel('Time[s]')\n",
    "plt.subplot(1,2,2)\n",
    "plt.bar(x, y_t[1])\n",
    "plt.title('Strassen')\n",
    "plt.xlabel('k')\n",
    "plt.ylabel('Time[s]')\n",
    "\n",
    "print([str(round(el,2)) + 's' for el in y_t[0]])\n",
    "print([str(round(el,2)) + 's' for el in y_t[1]])\n"
   ]
  },
  {
   "cell_type": "code",
   "execution_count": 144,
   "metadata": {},
   "outputs": [
    {
     "name": "stdout",
     "output_type": "stream",
     "text": [
      "[132, 1384, 12368, 104096, 853312, 6908544, 55596288]\n",
      "[262, 2994, 26158, 205026, 1525102, 11039874, 78744718]\n"
     ]
    },
    {
     "data": {
      "image/png": "[encoded data removed]",
      "text/plain": [
       "<Figure size 1008x504 with 2 Axes>"
      ]
     },
     "metadata": {
      "needs_background": "light"
     },
     "output_type": "display_data"
    }
   ],
   "source": [
    "# plot two bars on one plot\n",
    "plt.figure(figsize=(14,7))\n",
    "plt.subplot(1,2,1)\n",
    "plt.suptitle('Operations of recursive inversion depending on chosen multiplication algorithm:')\n",
    "plt.bar(x, y_op[0])\n",
    "plt.title('Cauchy-Binet')\n",
    "plt.xlabel('k')\n",
    "plt.ylabel('number of operations')\n",
    "plt.subplot(1,2,2)\n",
    "plt.bar(x, y_op[1])\n",
    "plt.title('Strassen')\n",
    "plt.xlabel('k')\n",
    "plt.ylabel('number of operations')\n",
    "\n",
    "print(y_op[0])\n",
    "print(y_op[1])"
   ]
  }
 ],
 "metadata": {
  "kernelspec": {
   "display_name": "base",
   "language": "python",
   "name": "python3"
  },
  "language_info": {
   "codemirror_mode": {
    "name": "ipython",
    "version": 3
   },
   "file_extension": ".py",
   "mimetype": "text/x-python",
   "name": "python",
   "nbconvert_exporter": "python",
   "pygments_lexer": "ipython3",
   "version": "3.9.12"
  }
 },
 "nbformat": 4,
 "nbformat_minor": 2
}
