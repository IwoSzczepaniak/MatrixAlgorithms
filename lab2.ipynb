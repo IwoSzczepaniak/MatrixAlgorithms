{
 "cells": [
  {
   "cell_type": "markdown",
   "metadata": {},
   "source": [
    "# Zadanie 2"
   ]
  },
  {
   "cell_type": "markdown",
   "metadata": {},
   "source": [
    "## Rekurenycjne odwracanie macierzy"
   ]
  },
  {
   "cell_type": "code",
   "execution_count": 1,
   "metadata": {},
   "outputs": [],
   "source": [
    "import numpy as np\n",
    "\n",
    "def multi_dot(dot_m, arrays): \n",
    "    '''\n",
    "    function used to make multiple dots in one go\n",
    "    '''\n",
    "    result, op = dot_m(arrays[0], arrays[1])\n",
    "    for i in range(2, len(arrays)):\n",
    "        result, op_new = dot_m(result, arrays[i])\n",
    "        op+=op_new\n",
    "    return result, op\n",
    "\n",
    "\n",
    "def recursive_inversion(matrix, dot_method):   \n",
    "    '''\n",
    "    function returns inverted matrix and operations it took to invert\n",
    "    '''\n",
    "    cnt = 0\n",
    "    if matrix.shape[0] != matrix.shape[1]: raise Exception('Matrix is not a square')\n",
    "    \n",
    "    if matrix.shape == (1, 1):\n",
    "        if matrix[0, 0] == 0: raise Exception('Matrix is invertible')\n",
    "        cnt += 1\n",
    "        return np.array([[1/matrix[0, 0]]]), cnt\n",
    "    \n",
    "    if matrix.shape == (2, 2):\n",
    "        det = matrix[0, 0]*matrix[1, 1] - matrix[0, 1]*matrix[1, 0]\n",
    "        if det == 0: raise Exception('Matrix is invertible')\n",
    "        cnt += 6\n",
    "        return np.array([[matrix[1, 1]/det, -matrix[0, 1]/det], [-matrix[1, 0]/det, matrix[0, 0]/det]]), cnt\n",
    "    \n",
    "    else:\n",
    "        n = matrix.shape[0]\n",
    "        m = n//2\n",
    "        A = matrix[:m, :m]\n",
    "        B = matrix[:m, m:]\n",
    "        C = matrix[m:, :m]\n",
    "        D = matrix[m:, m:]\n",
    "        \n",
    "        A_inv, cnt1 = recursive_inversion(A, dot_method)\n",
    "        md_val_1, md_cnt_1 = multi_dot(dot_method, [C, A_inv, B])\n",
    "        Common, cnt2 = recursive_inversion(D - md_val_1, dot_method)\n",
    "\n",
    "        md_val_2, md_cnt_2 =multi_dot(dot_method, [A_inv, B, Common, C, A_inv])\n",
    "        P = A_inv+md_val_2\n",
    "        md_val_3, md_cnt_3 =multi_dot(dot_method, [A_inv, B, Common])\n",
    "        Q = -md_val_3\n",
    "        md_val_4, md_cnt_4 = multi_dot(dot_method, [Common, C, A_inv])\n",
    "        R = -md_val_4\n",
    "\n",
    "        S = Common  \n",
    "\n",
    "        Top = np.row_stack([P, R])\n",
    "        Bottom = np.row_stack([Q,S])\n",
    "        cnt += cnt1 + cnt2 + md_cnt_1 + md_cnt_2 + md_cnt_3 + md_cnt_4\n",
    "\n",
    "        return np.column_stack([Top, Bottom]), cnt\n",
    "    \n",
    "\n"
   ]
  },
  {
   "cell_type": "code",
   "execution_count": 12,
   "metadata": {},
   "outputs": [],
   "source": [
    "def assert_same(A, B, sigma = 1e-2):\n",
    "    for i,row in enumerate(A):\n",
    "        for j, el in enumerate(row):\n",
    "            assert abs(el-B[i][j]) < sigma"
   ]
  },
  {
   "cell_type": "code",
   "execution_count": 3,
   "metadata": {},
   "outputs": [],
   "source": [
    "import time\n",
    "from matplotlib import pyplot as plt\n",
    "from multi_algorithms import cauchy_binet_recursive, strassen_matrix_multiply\n",
    "\n",
    "\n",
    "def test_algorithm(max_k):\n",
    "    x = []\n",
    "    y_t = [[] for _ in range(2)]\n",
    "    y_op = [[] for _ in range(2)]\n",
    "    for k in range(2,max_k+1):\n",
    "        n = 2**k\n",
    "        A = np.random.rand(n,n)\n",
    "\n",
    "        start = time.time()\n",
    "        A_inv, ops = recursive_inversion(A, cauchy_binet_recursive)\n",
    "        end = time.time()\n",
    "\n",
    "        assert_same(A_inv, np.linalg.inv(A))\n",
    "        y_t[0].append(end-start)\n",
    "        y_op[0].append(ops)\n",
    "\n",
    "        start = time.time()\n",
    "        A_inv, ops = recursive_inversion(A, strassen_matrix_multiply)\n",
    "        end = time.time()\n",
    "\n",
    "        assert_same(A_inv, np.linalg.inv(A))\n",
    "        y_t[1].append(end-start)\n",
    "        y_op[1].append(ops)\n",
    "\n",
    "        x.append(k)\n",
    "\n",
    "\n",
    "    return x, y_t, y_op\n"
   ]
  },
  {
   "cell_type": "markdown",
   "metadata": {},
   "source": [
    "Tests"
   ]
  },
  {
   "cell_type": "code",
   "execution_count": 5,
   "metadata": {},
   "outputs": [],
   "source": [
    "x, y_t, y_op = test_algorithm(8)\n"
   ]
  },
  {
   "cell_type": "code",
   "execution_count": 6,
   "metadata": {},
   "outputs": [
    {
     "name": "stdout",
     "output_type": "stream",
     "text": [
      "['0.0s', '0.0s', '0.02s', '0.25s', '1.79s', '9.86s', '68.38s']\n",
      "['0.0s', '0.01s', '0.04s', '0.32s', '2.28s', '9.87s', '69.11s']\n"
     ]
    },
    {
     "data": {
      "image/png": "[encoded data removed]",
      "text/plain": [
       "<Figure size 1008x504 with 2 Axes>"
      ]
     },
     "metadata": {
      "needs_background": "light"
     },
     "output_type": "display_data"
    }
   ],
   "source": [
    "# plot two bars on one plot\n",
    "plt.figure(figsize=(14,7))\n",
    "plt.subplot(1,2,1)\n",
    "plt.suptitle('Time of recursive inversion depending on chosen multiplication algorithm:')\n",
    "plt.bar(x, y_t[0])\n",
    "plt.title('Cauchy-Binet')\n",
    "plt.xlabel('k')\n",
    "plt.ylabel('Time[s]')\n",
    "plt.subplot(1,2,2)\n",
    "plt.bar(x, y_t[1])\n",
    "plt.title('Strassen')\n",
    "plt.xlabel('k')\n",
    "plt.ylabel('Time[s]')\n",
    "\n",
    "print([str(round(el,2)) + 's' for el in y_t[0]])\n",
    "print([str(round(el,2)) + 's' for el in y_t[1]])\n"
   ]
  },
  {
   "cell_type": "code",
   "execution_count": 7,
   "metadata": {},
   "outputs": [
    {
     "name": "stdout",
     "output_type": "stream",
     "text": [
      "[132, 1384, 12368, 104096, 853312, 6908544, 55596288]\n",
      "[262, 2994, 26158, 205026, 1525102, 11039874, 78744718]\n"
     ]
    },
    {
     "data": {
      "image/png": "[encoded data removed]",
      "text/plain": [
       "<Figure size 1008x504 with 2 Axes>"
      ]
     },
     "metadata": {
      "needs_background": "light"
     },
     "output_type": "display_data"
    }
   ],
   "source": [
    "# plot two bars on one plot\n",
    "plt.figure(figsize=(14,7))\n",
    "plt.subplot(1,2,1)\n",
    "plt.suptitle('Operations of recursive inversion depending on chosen multiplication algorithm:')\n",
    "plt.bar(x, y_op[0])\n",
    "plt.title('Cauchy-Binet')\n",
    "plt.xlabel('k')\n",
    "plt.ylabel('number of operations')\n",
    "plt.subplot(1,2,2)\n",
    "plt.bar(x, y_op[1])\n",
    "plt.title('Strassen')\n",
    "plt.xlabel('k')\n",
    "plt.ylabel('number of operations')\n",
    "\n",
    "print(y_op[0])\n",
    "print(y_op[1])"
   ]
  },
  {
   "cell_type": "markdown",
   "metadata": {},
   "source": [
    "## LU faktoryzacja"
   ]
  },
  {
   "cell_type": "code",
   "execution_count": 8,
   "metadata": {},
   "outputs": [],
   "source": [
    "def lu_decomposition(A, dot_method):\n",
    "    n = len(A)\n",
    "    \n",
    "    if n == 1:\n",
    "        L = np.array([[1]])\n",
    "        U = A\n",
    "        return L, U, 0\n",
    "\n",
    "    A11 = A[:n//2, :n//2]\n",
    "    A12 = A[:n//2, n//2:]\n",
    "    A21 = A[n//2:, :n//2]\n",
    "    A22 = A[n//2:, n//2:]\n",
    "\n",
    "    L11, U11, count1 = lu_decomposition(A11, dot_method)\n",
    "    U11_inv, count2 = recursive_inversion(U11, dot_method)\n",
    "    L21, count3 = dot_method(A21, U11_inv)\n",
    "    L11_inv, count4 = recursive_inversion(L11, dot_method)\n",
    "    U12, count5 = dot_method(L11_inv, A12)\n",
    "    A21U11_inv, count6 = dot_method(A21, U11_inv)\n",
    "    L11_invA12, count7 = dot_method(L11_inv, A12)\n",
    "    tmp, count8 = dot_method(A21U11_inv, L11_invA12)\n",
    "    S, count9 = A22 - tmp, tmp.shape[0]*tmp.shape[0]\n",
    "    Ls, Us, count10 = lu_decomposition(S, dot_method)\n",
    "    U22 = Us\n",
    "    L22 = Ls\n",
    "\n",
    "    L1 = np.hstack((L11, np.zeros((n//2, n//2))))\n",
    "    L2 = np.hstack((L21, L22))\n",
    "    L = np.vstack((L1, L2))\n",
    "\n",
    "    U1 = np.hstack((U11, U12))\n",
    "    U2 = np.hstack((np.zeros((n//2, n//2)), U22))\n",
    "    U = np.vstack((U1, U2))\n",
    "    \n",
    "    count = count1 + count2 + count3 + count4 + count5 + count6 + count7 + count8 + count9 + count10\n",
    "\n",
    "    return L, U, count"
   ]
  },
  {
   "cell_type": "code",
   "execution_count": 9,
   "metadata": {},
   "outputs": [],
   "source": [
    "def test_lu(max_k):\n",
    "    x = []\n",
    "    y_t = [[] for _ in range(2)]\n",
    "    y_op = [[] for _ in range(2)]\n",
    "    for k in range(2,max_k+1):\n",
    "        n = 2**k\n",
    "        A = np.random.rand(n,n)\n",
    "\n",
    "        start = time.time()\n",
    "        L, U, ops = lu_decomposition(A, cauchy_binet_recursive)\n",
    "        end = time.time()\n",
    "         \n",
    "        assert_same(A, L @ U)\n",
    "        y_t[0].append(end-start)\n",
    "        y_op[0].append(ops)\n",
    "\n",
    "        start = time.time()\n",
    "        L, U, ops = lu_decomposition(A, strassen_matrix_multiply)\n",
    "        end = time.time()\n",
    "\n",
    "        assert_same(A, L @ U)\n",
    "        y_t[1].append(end-start)\n",
    "        y_op[1].append(ops)\n",
    "\n",
    "        x.append(k)\n",
    "\n",
    "\n",
    "    return x, y_t, y_op"
   ]
  },
  {
   "cell_type": "markdown",
   "metadata": {},
   "source": [
    "Testy"
   ]
  },
  {
   "cell_type": "code",
   "execution_count": 13,
   "metadata": {},
   "outputs": [],
   "source": [
    "x, y_t, y_op = test_lu(8)"
   ]
  },
  {
   "cell_type": "code",
   "execution_count": 14,
   "metadata": {},
   "outputs": [
    {
     "name": "stdout",
     "output_type": "stream",
     "text": [
      "['0.0s', '0.0s', '0.01s', '0.1s', '0.81s', '6.4s', '51.62s']\n",
      "['0.0s', '0.0s', '0.02s', '0.15s', '1.1s', '7.82s', '54.38s']\n"
     ]
    },
    {
     "data": {
      "image/png": "[encoded data removed]",
      "text/plain": [
       "<Figure size 1008x504 with 2 Axes>"
      ]
     },
     "metadata": {
      "needs_background": "light"
     },
     "output_type": "display_data"
    }
   ],
   "source": [
    "# plot two bars on one plot\n",
    "plt.figure(figsize=(14,7))\n",
    "plt.subplot(1,2,1)\n",
    "plt.suptitle('Time of LU decomposition depending on chosen multiplication algorithm:')\n",
    "plt.bar(x, y_t[0])\n",
    "plt.title('Cauchy-Binet')\n",
    "plt.xlabel('k')\n",
    "plt.ylabel('Time[s]')\n",
    "plt.subplot(1,2,2)\n",
    "plt.bar(x, y_t[1])\n",
    "plt.title('Strassen')\n",
    "plt.xlabel('k')\n",
    "plt.ylabel('Time[s]')\n",
    "\n",
    "print([str(round(el,2)) + 's' for el in y_t[0]])\n",
    "print([str(round(el,2)) + 's' for el in y_t[1]])"
   ]
  },
  {
   "cell_type": "code",
   "execution_count": 15,
   "metadata": {},
   "outputs": [
    {
     "name": "stdout",
     "output_type": "stream",
     "text": [
      "[92, 1024, 9680, 84032, 699840, 5711360, 46145792]\n",
      "[157, 2089, 20315, 169557, 1307715, 9664565, 69757747]\n"
     ]
    },
    {
     "data": {
      "image/png": "[encoded data removed]",
      "text/plain": [
       "<Figure size 1008x504 with 2 Axes>"
      ]
     },
     "metadata": {
      "needs_background": "light"
     },
     "output_type": "display_data"
    }
   ],
   "source": [
    "# plot two bars on one plot\n",
    "plt.figure(figsize=(14,7))\n",
    "plt.subplot(1,2,1)\n",
    "plt.suptitle('Operations of LU decomposition depending on chosen multiplication algorithm:')\n",
    "plt.bar(x, y_op[0])\n",
    "plt.title('Cauchy-Binet')\n",
    "plt.xlabel('k')\n",
    "plt.ylabel('number of operations')\n",
    "plt.subplot(1,2,2)\n",
    "plt.bar(x, y_op[1])\n",
    "plt.title('Strassen')\n",
    "plt.xlabel('k')\n",
    "plt.ylabel('number of operations')\n",
    "\n",
    "print(y_op[0])\n",
    "print(y_op[1])"
   ]
  },
  {
   "cell_type": "markdown",
   "metadata": {},
   "source": [
    "## Wyznacznik"
   ]
  },
  {
   "cell_type": "code",
   "execution_count": 16,
   "metadata": {},
   "outputs": [],
   "source": [
    "def det(A, dot_method):\n",
    "    \n",
    "    L, U, count = lu_decomposition(A, dot_method)\n",
    "\n",
    "    det_L = np.prod(np.diagonal(L))  \n",
    "    det_U = np.prod(np.diagonal(U))  \n",
    "\n",
    "    return det_U*det_L, count + 2*U.shape[0] + 1"
   ]
  },
  {
   "cell_type": "code",
   "execution_count": 26,
   "metadata": {},
   "outputs": [],
   "source": [
    "def test_det(max_k, sigma=10e-4):\n",
    "    x = []\n",
    "    y_t = [[] for _ in range(2)]\n",
    "    y_op = [[] for _ in range(2)]\n",
    "    for k in range(2,max_k+1):\n",
    "        print(f\"Tests for k = {k}:\")\n",
    "        n = 2**k\n",
    "        A = np.random.rand(n,n)\n",
    "\n",
    "        start = time.time()\n",
    "        detA, ops = det(A, cauchy_binet_recursive)\n",
    "        end = time.time()\n",
    "\n",
    "        res1 = detA - np.linalg.det(A)\n",
    "        print(\"{:.2e}\".format(res1), \"ch\", end= \" \\t\")\n",
    "\n",
    "        y_t[0].append(end-start)\n",
    "        y_op[0].append(ops)\n",
    "\n",
    "        start = time.time()\n",
    "        detA, ops = det(A, strassen_matrix_multiply)\n",
    "        end = time.time()\n",
    "\n",
    "        res2 = detA - np.linalg.det(A)\n",
    "        print(\"{:.2e}\".format(res2), \"st\")\n",
    "\n",
    "        y_t[1].append(end-start)\n",
    "        y_op[1].append(ops)\n",
    "\n",
    "        x.append(k)\n",
    "\n",
    "\n",
    "    return x, y_t, y_op"
   ]
  },
  {
   "cell_type": "markdown",
   "metadata": {},
   "source": [
    "Testy"
   ]
  },
  {
   "cell_type": "code",
   "execution_count": 27,
   "metadata": {},
   "outputs": [
    {
     "name": "stdout",
     "output_type": "stream",
     "text": [
      "Tests for k = 2:\n",
      "3.47e-18 ch \t1.39e-17 st\n",
      "Tests for k = 3:\n",
      "8.33e-17 ch \t-2.64e-16 st\n",
      "Tests for k = 4:\n",
      "-5.20e-18 ch \t4.66e-15 st\n",
      "Tests for k = 5:\n",
      "-2.23e-13 ch \t1.42e-10 st\n",
      "Tests for k = 6:\n",
      "-5.61e-03 ch \t-3.67e-02 st\n",
      "Tests for k = 7:\n",
      "-1.02e+29 ch \t2.04e+32 st\n",
      "Tests for k = 8:\n",
      "6.65e+106 ch \t-7.44e+109 st\n"
     ]
    }
   ],
   "source": [
    "x, y_t, y_op = test_det(8)"
   ]
  },
  {
   "cell_type": "code",
   "execution_count": 28,
   "metadata": {},
   "outputs": [
    {
     "name": "stdout",
     "output_type": "stream",
     "text": [
      "['0.0s', '0.0s', '0.01s', '0.11s', '0.82s', '6.5s', '51.98s']\n",
      "['0.0s', '0.0s', '0.02s', '0.16s', '1.1s', '7.79s', '54.57s']\n"
     ]
    },
    {
     "data": {
      "image/png": "[encoded data removed]",
      "text/plain": [
       "<Figure size 1008x504 with 2 Axes>"
      ]
     },
     "metadata": {
      "needs_background": "light"
     },
     "output_type": "display_data"
    }
   ],
   "source": [
    "# plot two bars on one plot\n",
    "plt.figure(figsize=(14,7))\n",
    "plt.subplot(1,2,1)\n",
    "plt.suptitle('Time of determinant depending on chosen multiplication algorithm:')\n",
    "plt.bar(x, y_t[0])\n",
    "plt.title('Cauchy-Binet')\n",
    "plt.xlabel('k')\n",
    "plt.ylabel('Time[s]')\n",
    "plt.subplot(1,2,2)\n",
    "plt.bar(x, y_t[1])\n",
    "plt.title('Strassen')\n",
    "plt.xlabel('k')\n",
    "plt.ylabel('Time[s]')\n",
    "\n",
    "print([str(round(el,2)) + 's' for el in y_t[0]])\n",
    "print([str(round(el,2)) + 's' for el in y_t[1]])"
   ]
  },
  {
   "cell_type": "code",
   "execution_count": 29,
   "metadata": {},
   "outputs": [
    {
     "name": "stdout",
     "output_type": "stream",
     "text": [
      "[101, 1041, 9713, 84097, 699969, 5711617, 46146305]\n",
      "[166, 2106, 20348, 169622, 1307844, 9664822, 69758260]\n"
     ]
    },
    {
     "data": {
      "image/png": "[encoded data removed]",
      "text/plain": [
       "<Figure size 1008x504 with 2 Axes>"
      ]
     },
     "metadata": {
      "needs_background": "light"
     },
     "output_type": "display_data"
    }
   ],
   "source": [
    "# plot two bars on one plot\n",
    "plt.figure(figsize=(14,7))\n",
    "plt.subplot(1,2,1)\n",
    "plt.suptitle('Operations of determinant depending on chosen multiplication algorithm:')\n",
    "plt.bar(x, y_op[0])\n",
    "plt.title('Cauchy-Binet')\n",
    "plt.xlabel('k')\n",
    "plt.ylabel('number of operations')\n",
    "plt.subplot(1,2,2)\n",
    "plt.bar(x, y_op[1])\n",
    "plt.title('Strassen')\n",
    "plt.xlabel('k')\n",
    "plt.ylabel('number of operations')\n",
    "\n",
    "print(y_op[0])\n",
    "print(y_op[1])"
   ]
  }
 ],
 "metadata": {
  "kernelspec": {
   "display_name": "Python 3 (ipykernel)",
   "language": "python",
   "name": "python3"
  },
  "language_info": {
   "codemirror_mode": {
    "name": "ipython",
    "version": 3
   },
   "file_extension": ".py",
   "mimetype": "text/x-python",
   "name": "python",
   "nbconvert_exporter": "python",
   "pygments_lexer": "ipython3",
   "version": "3.9.12"
  }
 },
 "nbformat": 4,
 "nbformat_minor": 2
}
